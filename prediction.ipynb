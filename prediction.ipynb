{
 "cells": [
  {
   "cell_type": "markdown",
   "metadata": {},
   "source": [
    "# PREDICTION BOT"
   ]
  },
  {
   "cell_type": "code",
   "execution_count": 1,
   "metadata": {},
   "outputs": [],
   "source": [
    "# Code to create a prediction bot"
   ]
  },
  {
   "cell_type": "code",
   "execution_count": 8,
   "metadata": {},
   "outputs": [],
   "source": [
    "# First we create a module for the computer to select a random number within a range\n",
    "# Using the import random module and random.randint function\n",
    "# An example below instructs the computer to choose at random from 0 to 100\n",
    "import random\n",
    "\n",
    "x = random.randint(0,100)"
   ]
  },
  {
   "cell_type": "code",
   "execution_count": 36,
   "metadata": {},
   "outputs": [
    {
     "name": "stdout",
     "output_type": "stream",
     "text": [
      "9\n"
     ]
    }
   ],
   "source": [
    "# A list is created here,from 1-10\n",
    "# We used the random.randint() to select from number[0] to number[9] i.e the first in the list to the ninth item which is the last item\n",
    "number = [1,2,3,4,5,6,7,8,9,10]\n",
    "import random\n",
    "\n",
    "y = random.randint(number[0],number[9])\n",
    "print(y)"
   ]
  },
  {
   "cell_type": "code",
   "execution_count": 37,
   "metadata": {},
   "outputs": [
    {
     "name": "stdout",
     "output_type": "stream",
     "text": [
      "1\n"
     ]
    }
   ],
   "source": [
    "# Created an input using the input() function and converting it into an integer using the int() function\n",
    "user = input(\"enter a number\")\n",
    "int_user = int(user)\n",
    "print(int_user) \n",
    "\n"
   ]
  },
  {
   "cell_type": "code",
   "execution_count": 39,
   "metadata": {},
   "outputs": [
    {
     "name": "stdout",
     "output_type": "stream",
     "text": [
      "you got it wrong and there is no more trial\n"
     ]
    }
   ],
   "source": [
    "# Declared a function\n",
    "def func():\n",
    "# if statement which states that if the input entered by the user is equivalent to y(i.e the random digit selected by the computer) it should print \"YOU GUESSED RIGHT\"\n",
    "    if (int_user is y):\n",
    "        print(\"you guessed right\")\n",
    "# Else it should give the user another chance to input another value for the second time\n",
    "    else:\n",
    "        user = input(\"try again\")\n",
    "        int_user2 = int(user)\n",
    "# if its correct then it should print \"YOU GOT IT RIGHT THIS TIME\"\n",
    "        if (int_user2 is y):\n",
    "            print(\"you got it right this time\")\n",
    "# else the user should try again for the third time\n",
    "        else:\n",
    "            user = input(\"try again\")\n",
    "            int_user3 = int(user)\n",
    "# if its correct then it prints \"YOU GOT IT RIGHT THIS TIME\"\n",
    "        if (int_user3 is y):\n",
    "            print(\"you got it right this time\")\n",
    "# else the user gets it wrong and there is no more trial for him\n",
    "        else:\n",
    "            print(\"you got it wrong and there is no more trial\")\n",
    "# Then we call the functions name\n",
    "func()"
   ]
  },
  {
   "cell_type": "code",
   "execution_count": 6,
   "metadata": {},
   "outputs": [
    {
     "name": "stdout",
     "output_type": "stream",
     "text": [
      "Welcome, Ola ,are you ready to make a lucky guess...choose a number between 0 to 10\n",
      "Your first choice is 2\n",
      "Your second choice is 3\n",
      "you guessed the number right this time\n",
      "The lucky number is 3\n"
     ]
    }
   ],
   "source": [
    "user = input('Enter your name')\n",
    "print('Welcome,',user,',are you ready to make a lucky guess...choose a number between 0 to 10')\n",
    "def func():\n",
    "    import random\n",
    "    y = random.randint(0,10)\n",
    "\n",
    "    num = int(input('Enter a number'))\n",
    "    print('Your first choice is',num)\n",
    "    if num == y:\n",
    "        \n",
    "        print('you guessed the number right')\n",
    "    else:\n",
    "        num = int(input('Try your guess again'))\n",
    "        print('Your second choice is',num)\n",
    "        if num == y:\n",
    "            print('you guessed the number right this time')\n",
    "        else:\n",
    "            num = int(input('Try the last time'))\n",
    "            print('Your last guess is',num)\n",
    "            if num == y:\n",
    "                print('You are right this time')\n",
    "            else:\n",
    "                result = ['You got it wrong...try later','Tough luck but you can always try again','So unlucky...','Try later']\n",
    "            import random\n",
    "            print(random.choice(result))\n",
    "    \n",
    "    print('The lucky number is',y)\n",
    "func()\n"
   ]
  },
  {
   "cell_type": "code",
   "execution_count": null,
   "metadata": {},
   "outputs": [],
   "source": []
  }
 ],
 "metadata": {
  "interpreter": {
   "hash": "37eb40c3388cfde35488e2d005b0d69ca91ddeff8a429754d4da636d3f888e5e"
  },
  "kernelspec": {
   "display_name": "Python 3.8.5 64-bit ('base': conda)",
   "name": "python3"
  },
  "language_info": {
   "codemirror_mode": {
    "name": "ipython",
    "version": 3
   },
   "file_extension": ".py",
   "mimetype": "text/x-python",
   "name": "python",
   "nbconvert_exporter": "python",
   "pygments_lexer": "ipython3",
   "version": "3.8.5"
  },
  "orig_nbformat": 4
 },
 "nbformat": 4,
 "nbformat_minor": 2
}
